{
  "nbformat": 4,
  "nbformat_minor": 0,
  "metadata": {
    "colab": {
      "private_outputs": true,
      "provenance": []
    },
    "kernelspec": {
      "name": "python3",
      "display_name": "Python 3"
    },
    "language_info": {
      "name": "python"
    }
  },
  "cells": [
    {
      "cell_type": "code",
      "source": [
        "pip install epitran"
      ],
      "metadata": {
        "id": "5CfuUC1-Zvl5"
      },
      "execution_count": null,
      "outputs": []
    },
    {
      "cell_type": "code",
      "source": [
        "pip install panphon numpy"
      ],
      "metadata": {
        "id": "w0rD_XOGZ0z-"
      },
      "execution_count": null,
      "outputs": []
    },
    {
      "cell_type": "code",
      "source": [
        "pip install pyttsx3"
      ],
      "metadata": {
        "id": "rZjCGhqqZ81d"
      },
      "execution_count": null,
      "outputs": []
    },
    {
      "cell_type": "code",
      "source": [
        "pip install gtts"
      ],
      "metadata": {
        "id": "z8T4pI3laCvW"
      },
      "execution_count": null,
      "outputs": []
    },
    {
      "cell_type": "code",
      "source": [
        "!apt-get install -y espeak"
      ],
      "metadata": {
        "collapsed": true,
        "id": "2eQdtGI-hBFs"
      },
      "execution_count": null,
      "outputs": []
    },
    {
      "cell_type": "code",
      "execution_count": null,
      "metadata": {
        "id": "ZgJjbq0JZAGQ"
      },
      "outputs": [],
      "source": [
        "from phonemizer import phonemize\n",
        "from phonemizer.backend import EspeakBackend\n",
        "from gtts import gTTS\n",
        "import os"
      ]
    },
    {
      "cell_type": "code",
      "source": [
        "def transcribe_to_ipa(text, language=\"en\"):\n",
        "    ipa_transcription = phonemize(text, backend=\"espeak\", language=language)\n",
        "    return ipa_transcription"
      ],
      "metadata": {
        "id": "7YDKLwPIZHCA"
      },
      "execution_count": null,
      "outputs": []
    },
    {
      "cell_type": "code",
      "source": [
        "def play_audio(text, language='en'):\n",
        "    tts = gTTS(text=text, lang=language)\n",
        "    tts.save(\"output.mp3\")\n",
        "    os.system(\"start output.mp3\")"
      ],
      "metadata": {
        "id": "PfHY0r2JZG-l"
      },
      "execution_count": null,
      "outputs": []
    },
    {
      "cell_type": "code",
      "source": [
        "pip install phonemizer"
      ],
      "metadata": {
        "id": "2zFxHQ2-aiJU"
      },
      "execution_count": null,
      "outputs": []
    },
    {
      "cell_type": "code",
      "source": [
        "if __name__ == \"__main__\":\n",
        "    print(\"Available languages: English (en), French (fr), Spanish (es), German (de)\")\n",
        "    language = input(\"Enter language code (e.g., 'en' for English): \").strip().lower()\n",
        "    text = input(\"Enter text: \")\n",
        "\n",
        "    try:\n",
        "        ipa_result = transcribe_to_ipa(text, language)\n",
        "        print(f\"IPA Transcription: {ipa_result}\")\n",
        "        play_audio(text, language)\n",
        "    except Exception as e:\n",
        "        print(f\"Error: {e}\")"
      ],
      "metadata": {
        "id": "F_I4b2e6ZG8V"
      },
      "execution_count": null,
      "outputs": []
    },
    {
      "cell_type": "code",
      "source": [],
      "metadata": {
        "id": "O-sio9A9ZG6L"
      },
      "execution_count": null,
      "outputs": []
    },
    {
      "cell_type": "code",
      "source": [],
      "metadata": {
        "id": "kCUEOhxMZG4O"
      },
      "execution_count": null,
      "outputs": []
    },
    {
      "cell_type": "code",
      "source": [],
      "metadata": {
        "id": "BJr2fd5NZG1p"
      },
      "execution_count": null,
      "outputs": []
    }
  ]
}