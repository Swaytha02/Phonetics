{
  "nbformat": 4,
  "nbformat_minor": 0,
  "metadata": {
    "colab": {
      "private_outputs": true,
      "provenance": []
    },
    "kernelspec": {
      "name": "python3",
      "display_name": "Python 3"
    },
    "language_info": {
      "name": "python"
    }
  },
  "cells": [
    {
      "cell_type": "code",
      "source": [
        "pip install phonemizer gtts gradio"
      ],
      "metadata": {
        "id": "O-sio9A9ZG6L"
      },
      "execution_count": null,
      "outputs": []
    },
    {
      "cell_type": "code",
      "source": [
        "import gradio as gr\n",
        "from phonemizer import phonemize\n",
        "from gtts import gTTS\n",
        "import os\n",
        "\n",
        "# Function to Transcribe Text to IPA\n",
        "def transcribe_to_ipa(text, language=\"en\"):\n",
        "    return phonemize(text, backend=\"espeak\", language=language)\n",
        "\n",
        "# Function to Convert Text to Speech and Play Audio\n",
        "def text_to_speech(text, language='en'):\n",
        "    tts = gTTS(text=text, lang=language)\n",
        "    tts.save(\"output.mp3\")\n",
        "    return \"output.mp3\"\n",
        "\n",
        "# Gradio Interface\n",
        "def process_text(text, language):\n",
        "    ipa_result = transcribe_to_ipa(text, language)\n",
        "    audio_file = text_to_speech(text, language)\n",
        "    return ipa_result, audio_file\n",
        "\n",
        "# UI with Gradio\n",
        "iface = gr.Interface(\n",
        "    fn=process_text,\n",
        "    inputs=[\n",
        "        gr.Textbox(label=\"Enter Text\"),\n",
        "        gr.Dropdown([\"en\", \"fr\", \"es\", \"de\"], label=\"Select Language\", value=\"en\")\n",
        "    ],\n",
        "    outputs=[\n",
        "        gr.Textbox(label=\"IPA Transcription\"),\n",
        "        gr.Audio(label=\"Generated Speech\")\n",
        "    ],\n",
        "    title=\"Phonetic Transcription & Speech\",\n",
        "    description=\"Enter text, get IPA transcription and speech output.\"\n",
        ")\n",
        "\n",
        "# Run the Gradio App\n",
        "if __name__ == \"__main__\":\n",
        "    iface.launch()\n"
      ],
      "metadata": {
        "id": "kCUEOhxMZG4O"
      },
      "execution_count": null,
      "outputs": []
    }
  ]
}